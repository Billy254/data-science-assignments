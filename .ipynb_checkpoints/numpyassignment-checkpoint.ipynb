{
 "cells": [
  {
   "cell_type": "markdown",
   "metadata": {},
   "source": [
    "## Numpy review\n"
   ]
  },
  {
   "cell_type": "code",
   "execution_count": 2,
   "metadata": {},
   "outputs": [],
   "source": [
    "import numpy as np"
   ]
  },
  {
   "cell_type": "code",
   "execution_count": null,
   "metadata": {},
   "outputs": [],
   "source": [
    "# printing numpy vaersiion\n",
    "\n",
    "print(\"the numpy version is \", np.__version__)"
   ]
  },
  {
   "cell_type": "code",
   "execution_count": null,
   "metadata": {},
   "outputs": [],
   "source": [
    "# using numpy to create a list with 1000 itesms of 0\n",
    "# set the 500th item to seven\n",
    "\n",
    "\n",
    "npyarr = np.zeros(1000)\n",
    "\n",
    "for item in range(len(npyarr)):\n",
    "    if item == 500 :\n",
    "       npyarr[item] =  7\n",
    "\n",
    "print(npyarr)"
   ]
  },
  {
   "cell_type": "code",
   "execution_count": 8,
   "metadata": {},
   "outputs": [
    {
     "name": "stdout",
     "output_type": "stream",
     "text": [
      "[[0.63509769 0.59903786 0.43814293 0.66412022 0.73549658 0.5296117\n",
      "  0.23432522 0.92853859 0.71071165 0.30000367 0.21475232 0.17565911\n",
      "  0.43844288 0.61720658 0.59290604 0.4448045  0.86788813 0.04679084\n",
      "  0.0106782  0.14690219 0.24697532 0.36870638 0.82708012 0.2970864\n",
      "  0.05425528 0.04791564 0.44302286 0.47370281 0.32423763 0.54979395\n",
      "  0.04378063 0.84807035 0.57524955 0.86207694 0.63661972 0.67977663\n",
      "  0.78271939 0.38627828 0.24025868 0.32298897 0.70092727 0.93795449\n",
      "  0.34532783 0.20529118 0.93913876 0.36592745 0.37890691 0.085611\n",
      "  0.12998206 0.40569549]\n",
      " [0.67176868 0.85477801 0.15870271 0.92259598 0.92401011 0.50629166\n",
      "  0.79999721 0.47584186 0.92073048 0.20269271 0.1862047  0.56976815\n",
      "  0.92810637 0.85263479 0.87232305 0.66533702 0.21208359 0.42791982\n",
      "  0.24122936 0.82045301 0.71436743 0.73292475 0.06929845 0.82475601\n",
      "  0.27085725 0.23028311 0.93940481 0.50513401 0.10672574 0.02552892\n",
      "  0.48018239 0.42304739 0.90500224 0.8654664  0.30123955 0.17880775\n",
      "  0.4230141  0.58080556 0.13560391 0.79211303 0.49790823 0.21521668\n",
      "  0.39446057 0.30767614 0.86682167 0.76436526 0.4596973  0.24885609\n",
      "  0.06108836 0.07400501]\n",
      " [0.68693463 0.06158386 0.94175606 0.78536612 0.44671088 0.43388692\n",
      "  0.23609739 0.5617108  0.62859337 0.74075553 0.30236693 0.27981087\n",
      "  0.35615716 0.87897784 0.35450582 0.39644765 0.94101398 0.30623119\n",
      "  0.06782608 0.22079533 0.70484171 0.52584902 0.88561689 0.49489291\n",
      "  0.32780415 0.31173768 0.24467519 0.44891001 0.45106503 0.9955519\n",
      "  0.38567511 0.47703437 0.17677187 0.00454897 0.33844923 0.34858858\n",
      "  0.1143596  0.14949666 0.85145523 0.64271841 0.06140913 0.03174067\n",
      "  0.67568891 0.04030332 0.38793255 0.77900563 0.14682212 0.02691651\n",
      "  0.01167222 0.54782469]\n",
      " [0.95870324 0.64355991 0.21465146 0.75782502 0.4967405  0.15972966\n",
      "  0.73495713 0.01974381 0.03746134 0.12978485 0.56616698 0.28301334\n",
      "  0.57709649 0.32682521 0.19278891 0.14442455 0.03477733 0.07404294\n",
      "  0.87451201 0.34538617 0.83886293 0.60195996 0.94426462 0.48144554\n",
      "  0.6238079  0.11882198 0.42117723 0.69096735 0.7625164  0.55006793\n",
      "  0.10495248 0.05316917 0.35592065 0.19069931 0.96026382 0.72990484\n",
      "  0.15140453 0.20007502 0.30724981 0.10784615 0.93748312 0.87018591\n",
      "  0.54338975 0.16238719 0.41504656 0.1483624  0.26852734 0.36469121\n",
      "  0.88138515 0.87207478]]\n"
     ]
    }
   ],
   "source": [
    "# creates a list num and stores item in the range between 4 and 50\n",
    "# question 6 to be reviewed.\n",
    "\n",
    "num = np.random.random([4,50])\n",
    "\n",
    "print(num)\n",
    "\n",
    "\n",
    "# print(num)"
   ]
  },
  {
   "cell_type": "markdown",
   "metadata": {},
   "source": [
    "#### 7. What are the differences between ordinary python arrays and numpy arrays?\n",
    "\n"
   ]
  },
  {
   "cell_type": "code",
   "execution_count": null,
   "metadata": {},
   "outputs": [],
   "source": [
    "# write a function that takes one param and returns the datatype\n",
    "\n",
    "def num(x):\n",
    "    return type(x)\n",
    "\n",
    "num(4)"
   ]
  },
  {
   "cell_type": "markdown",
   "metadata": {},
   "source": [
    "#### dtype is a numpy fuction that returns the data type of a variable"
   ]
  },
  {
   "cell_type": "markdown",
   "metadata": {},
   "source": [
    "### List 7 standard Numpy data types\n",
    "\n",
    "##### integers,\n",
    "#####  unsigned integers\n",
    "#####  floating points\n",
    "#####  complex\n",
    "\n",
    "##### other data typse\n",
    "#####  boolean\n",
    "#####  string\n",
    "#####  datetime\n",
    "#####  python objects"
   ]
  },
  {
   "cell_type": "code",
   "execution_count": null,
   "metadata": {},
   "outputs": [],
   "source": [
    "# create a two dimensional array twod\n",
    "\n",
    "twod = np.array(([1,2,3],[4,5,6]))\n",
    "\n",
    "print(\"Two dimension array \\n\")\n",
    "print (twod)\n",
    "\n",
    "print(\"data type \\n\")\n",
    "\n",
    "print(twod.dtype)\n",
    "\n",
    "print(\"array shape \\n\")\n",
    "\n",
    "print(twod.shape)\n",
    "\n",
    "# rehape the array to 1 d\n",
    "\n",
    "oned = np.reshape(twod,6)\n",
    "\n",
    "print(\"one dimension\", oned )\n",
    "\n",
    "\n",
    "\n"
   ]
  },
  {
   "cell_type": "code",
   "execution_count": null,
   "metadata": {},
   "outputs": [],
   "source": []
  },
  {
   "cell_type": "code",
   "execution_count": null,
   "metadata": {},
   "outputs": [],
   "source": [
    "xarr = np.arange(10)\n",
    "\n",
    "print(\"first two elements\", xarr[0:2])\n",
    "print(\"all elements after first two elements\", xarr[2:])\n",
    "\n",
    "print (xarr[::-1])\n",
    "\n",
    "#reshape xarr to 2 x 5 matrix\n",
    "\n",
    "xarr_new = np.reshape(xarr , (2,5))\n",
    "\n",
    "print(\"2 X 5 martix \\n ----------\\n\", xarrn)\n",
    "\n"
   ]
  },
  {
   "cell_type": "code",
   "execution_count": null,
   "metadata": {},
   "outputs": [],
   "source": [
    "# Correct the errors and combine the two arrays into a new array named carr\n",
    "a = np.array([14,15,16,17,18,19], dtype= np.float32 )\n",
    "b = np.array([4.5,4,4,2,5.6])\n",
    "\n",
    "c = np.concatenate([a,b])\n",
    "\n",
    "print(\"concatenate a and b : \", c)\n"
   ]
  },
  {
   "cell_type": "code",
   "execution_count": null,
   "metadata": {},
   "outputs": [],
   "source": [
    "# loops through the string and stores every character as an entry in the list\n",
    "# list comprehesion \n",
    "\n",
    "my_name = \"Billy Lugado\"\n",
    "n_name = [letter for letter in 'my_name']\n",
    "print(n_name)"
   ]
  },
  {
   "cell_type": "code",
   "execution_count": null,
   "metadata": {
    "scrolled": true
   },
   "outputs": [],
   "source": [
    "# creating a list using for loop\n",
    "\n",
    "my_list = []\n",
    "\n",
    "for i in 'some_list':\n",
    "    my_list.append(i)\n",
    "\n",
    "print (my_list)\n",
    "        \n",
    "    "
   ]
  },
  {
   "cell_type": "code",
   "execution_count": null,
   "metadata": {},
   "outputs": [],
   "source": [
    "#list compression \n",
    "\n",
    "my_list = [ letter for letter in 'some list' ]\n",
    "print(my_list)"
   ]
  }
 ],
 "metadata": {
  "kernelspec": {
   "display_name": "Python 3",
   "language": "python",
   "name": "python3"
  },
  "language_info": {
   "codemirror_mode": {
    "name": "ipython",
    "version": 3
   },
   "file_extension": ".py",
   "mimetype": "text/x-python",
   "name": "python",
   "nbconvert_exporter": "python",
   "pygments_lexer": "ipython3",
   "version": "3.7.1"
  }
 },
 "nbformat": 4,
 "nbformat_minor": 2
}
